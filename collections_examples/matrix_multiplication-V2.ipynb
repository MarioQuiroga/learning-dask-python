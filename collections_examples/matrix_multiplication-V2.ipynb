{
 "cells": [
  {
   "cell_type": "markdown",
   "metadata": {},
   "source": [
    "# Scaling-Up matrix multiplication"
   ]
  },
  {
   "cell_type": "code",
   "execution_count": 1,
   "metadata": {},
   "outputs": [],
   "source": [
    "import dask.array as da\n",
    "from dask.distributed import Client\n",
    "import time\n",
    "from scale_cluster import init_cluster\n",
    "from scale_cluster import kill_cluster\n",
    "import numpy as np"
   ]
  },
  {
   "cell_type": "code",
   "execution_count": 2,
   "metadata": {},
   "outputs": [],
   "source": [
    "# Settings Init Cluster\n",
    "max_workers = 3  # It depends settings cluster\n",
    "max_cores_by_workers = 10\n",
    "\n",
    "# Settings Init Matrix\n",
    "n_rows_x = 100000\n",
    "n_col_x = 200000\n",
    "n_rows_y = 200000\n",
    "n_col_y = 100000\n",
    "\n",
    "# Init vars matrix\n",
    "x_1 = da.ones((n_rows_x,n_col_x))\n",
    "y_1 = da.ones((n_rows_y,n_col_y))\n",
    "sequential_time = 4\n",
    "speed_ups = []\n",
    "#mult = da.matmul(x_1,y_1)\n",
    "#res = mult.compute()\n",
    "#rescgt ufh "
   ]
  },
  {
   "cell_type": "markdown",
   "metadata": {},
   "source": [
    "### Get time sequential"
   ]
  },
  {
   "cell_type": "code",
   "execution_count": 3,
   "metadata": {},
   "outputs": [
    {
     "name": "stdout",
     "output_type": "stream",
     "text": [
      "<Client: scheduler='tcp://170.210.103.20:8786' processes=23 cores=552>\n"
     ]
    },
    {
     "name": "stderr",
     "output_type": "stream",
     "text": [
      "/home/mario/dask/lib/python3.6/site-packages/dask/array/routines.py:283: PerformanceWarning: Increasing number of chunks by factor of 25\n",
      "  concatenate=True\n"
     ]
    },
    {
     "ename": "MemoryError",
     "evalue": "",
     "output_type": "error",
     "traceback": [
      "\u001b[0;31m---------------------------------------------------------------------------\u001b[0m",
      "\u001b[0;31mMemoryError\u001b[0m                               Traceback (most recent call last)",
      "\u001b[0;32m<ipython-input-3-3bd9e69154ed>\u001b[0m in \u001b[0;36m<module>\u001b[0;34m\u001b[0m\n\u001b[1;32m      9\u001b[0m \u001b[0mm\u001b[0m \u001b[0;34m=\u001b[0m \u001b[0mclient\u001b[0m\u001b[0;34m.\u001b[0m\u001b[0mcompute\u001b[0m\u001b[0;34m(\u001b[0m\u001b[0mmult\u001b[0m\u001b[0;34m)\u001b[0m\u001b[0;34m\u001b[0m\u001b[0;34m\u001b[0m\u001b[0m\n\u001b[1;32m     10\u001b[0m \u001b[0;31m#res = mult.compute()\u001b[0m\u001b[0;34m\u001b[0m\u001b[0;34m\u001b[0m\u001b[0;34m\u001b[0m\u001b[0m\n\u001b[0;32m---> 11\u001b[0;31m \u001b[0mres\u001b[0m \u001b[0;34m=\u001b[0m \u001b[0mm\u001b[0m\u001b[0;34m.\u001b[0m\u001b[0mresult\u001b[0m\u001b[0;34m(\u001b[0m\u001b[0;34m)\u001b[0m\u001b[0;34m\u001b[0m\u001b[0;34m\u001b[0m\u001b[0m\n\u001b[0m\u001b[1;32m     12\u001b[0m \u001b[0msequential_time\u001b[0m \u001b[0;34m=\u001b[0m \u001b[0mtime\u001b[0m\u001b[0;34m.\u001b[0m\u001b[0mtime\u001b[0m\u001b[0;34m(\u001b[0m\u001b[0;34m)\u001b[0m\u001b[0;34m-\u001b[0m\u001b[0mt\u001b[0m\u001b[0;34m\u001b[0m\u001b[0;34m\u001b[0m\u001b[0m\n\u001b[1;32m     13\u001b[0m \u001b[0mprint\u001b[0m\u001b[0;34m(\u001b[0m\u001b[0;34m'Result:'\u001b[0m\u001b[0;34m)\u001b[0m\u001b[0;34m\u001b[0m\u001b[0;34m\u001b[0m\u001b[0m\n",
      "\u001b[0;32m~/dask/lib/python3.6/site-packages/distributed/client.py\u001b[0m in \u001b[0;36mresult\u001b[0;34m(self, timeout)\u001b[0m\n\u001b[1;32m    193\u001b[0m                                   raiseit=False)\n\u001b[1;32m    194\u001b[0m         \u001b[0;32mif\u001b[0m \u001b[0mself\u001b[0m\u001b[0;34m.\u001b[0m\u001b[0mstatus\u001b[0m \u001b[0;34m==\u001b[0m \u001b[0;34m'error'\u001b[0m\u001b[0;34m:\u001b[0m\u001b[0;34m\u001b[0m\u001b[0;34m\u001b[0m\u001b[0m\n\u001b[0;32m--> 195\u001b[0;31m             \u001b[0msix\u001b[0m\u001b[0;34m.\u001b[0m\u001b[0mreraise\u001b[0m\u001b[0;34m(\u001b[0m\u001b[0;34m*\u001b[0m\u001b[0mresult\u001b[0m\u001b[0;34m)\u001b[0m\u001b[0;34m\u001b[0m\u001b[0;34m\u001b[0m\u001b[0m\n\u001b[0m\u001b[1;32m    196\u001b[0m         \u001b[0;32melif\u001b[0m \u001b[0mself\u001b[0m\u001b[0;34m.\u001b[0m\u001b[0mstatus\u001b[0m \u001b[0;34m==\u001b[0m \u001b[0;34m'cancelled'\u001b[0m\u001b[0;34m:\u001b[0m\u001b[0;34m\u001b[0m\u001b[0;34m\u001b[0m\u001b[0m\n\u001b[1;32m    197\u001b[0m             \u001b[0;32mraise\u001b[0m \u001b[0mresult\u001b[0m\u001b[0;34m\u001b[0m\u001b[0;34m\u001b[0m\u001b[0m\n",
      "\u001b[0;32m~/dask/lib/python3.6/site-packages/six.py\u001b[0m in \u001b[0;36mreraise\u001b[0;34m(tp, value, tb)\u001b[0m\n\u001b[1;32m    690\u001b[0m                 \u001b[0mvalue\u001b[0m \u001b[0;34m=\u001b[0m \u001b[0mtp\u001b[0m\u001b[0;34m(\u001b[0m\u001b[0;34m)\u001b[0m\u001b[0;34m\u001b[0m\u001b[0;34m\u001b[0m\u001b[0m\n\u001b[1;32m    691\u001b[0m             \u001b[0;32mif\u001b[0m \u001b[0mvalue\u001b[0m\u001b[0;34m.\u001b[0m\u001b[0m__traceback__\u001b[0m \u001b[0;32mis\u001b[0m \u001b[0;32mnot\u001b[0m \u001b[0mtb\u001b[0m\u001b[0;34m:\u001b[0m\u001b[0;34m\u001b[0m\u001b[0;34m\u001b[0m\u001b[0m\n\u001b[0;32m--> 692\u001b[0;31m                 \u001b[0;32mraise\u001b[0m \u001b[0mvalue\u001b[0m\u001b[0;34m.\u001b[0m\u001b[0mwith_traceback\u001b[0m\u001b[0;34m(\u001b[0m\u001b[0mtb\u001b[0m\u001b[0;34m)\u001b[0m\u001b[0;34m\u001b[0m\u001b[0;34m\u001b[0m\u001b[0m\n\u001b[0m\u001b[1;32m    693\u001b[0m             \u001b[0;32mraise\u001b[0m \u001b[0mvalue\u001b[0m\u001b[0;34m\u001b[0m\u001b[0;34m\u001b[0m\u001b[0m\n\u001b[1;32m    694\u001b[0m         \u001b[0;32mfinally\u001b[0m\u001b[0;34m:\u001b[0m\u001b[0;34m\u001b[0m\u001b[0;34m\u001b[0m\u001b[0m\n",
      "\u001b[0;32m/storage/mquiroga/dask-env/lib/python3.5/site-packages/numpy/core/numeric.py\u001b[0m in \u001b[0;36mones\u001b[0;34m()\u001b[0m\n",
      "\u001b[0;31mMemoryError\u001b[0m: "
     ]
    }
   ],
   "source": [
    "init_cluster('170.210.103.20', str(1), str(24))\n",
    "time.sleep(5)\n",
    "client = Client('170.210.103.20:8786')\n",
    "print(client)\n",
    "\n",
    "# Execute task\n",
    "t = time.time()\n",
    "mult = da.matmul(x_1,y_1)\n",
    "m = client.compute(mult)\n",
    "#res = mult.compute()\n",
    "res = m.result()\n",
    "sequential_time = time.time()-t\n",
    "print('Result:')\n",
    "print(res)\n",
    "print('With nodes:3 '+'cores_by_workers: '+str(1)+ '\\tTime: '+ str(sequential_time))    \n",
    "print('----------------------------------------------------------')\n",
    "kill_cluster('170.210.103.20')\n",
    "time.sleep(10)"
   ]
  },
  {
   "cell_type": "markdown",
   "metadata": {},
   "source": [
    "### Get Speed_Ups"
   ]
  },
  {
   "cell_type": "code",
   "execution_count": 4,
   "metadata": {},
   "outputs": [
    {
     "name": "stdout",
     "output_type": "stream",
     "text": [
      "<Client: scheduler='tcp://170.210.103.20:8786' processes=3 cores=3>\n",
      "[[2000 2000 2000 ... 2000 2000 2000]\n",
      " [2000 2000 2000 ... 2000 2000 2000]\n",
      " [2000 2000 2000 ... 2000 2000 2000]\n",
      " ...\n",
      " [2000 2000 2000 ... 2000 2000 2000]\n",
      " [2000 2000 2000 ... 2000 2000 2000]\n",
      " [2000 2000 2000 ... 2000 2000 2000]]\n",
      "With nodes:3 cores_by_workers: 1\tTime: 17.905235052108765\n",
      "----------------------------------------------------------\n",
      "<Client: scheduler='tcp://170.210.103.20:8786' processes=3 cores=6>\n",
      "[[2000 2000 2000 ... 2000 2000 2000]\n",
      " [2000 2000 2000 ... 2000 2000 2000]\n",
      " [2000 2000 2000 ... 2000 2000 2000]\n",
      " ...\n",
      " [2000 2000 2000 ... 2000 2000 2000]\n",
      " [2000 2000 2000 ... 2000 2000 2000]\n",
      " [2000 2000 2000 ... 2000 2000 2000]]\n",
      "With nodes:3 cores_by_workers: 2\tTime: 17.810452461242676\n",
      "----------------------------------------------------------\n",
      "<Client: scheduler='tcp://170.210.103.20:8786' processes=3 cores=9>\n",
      "[[2000 2000 2000 ... 2000 2000 2000]\n",
      " [2000 2000 2000 ... 2000 2000 2000]\n",
      " [2000 2000 2000 ... 2000 2000 2000]\n",
      " ...\n",
      " [2000 2000 2000 ... 2000 2000 2000]\n",
      " [2000 2000 2000 ... 2000 2000 2000]\n",
      " [2000 2000 2000 ... 2000 2000 2000]]\n",
      "With nodes:3 cores_by_workers: 3\tTime: 17.85599446296692\n",
      "----------------------------------------------------------\n",
      "<Client: scheduler='tcp://170.210.103.20:8786' processes=3 cores=12>\n",
      "[[2000 2000 2000 ... 2000 2000 2000]\n",
      " [2000 2000 2000 ... 2000 2000 2000]\n",
      " [2000 2000 2000 ... 2000 2000 2000]\n",
      " ...\n",
      " [2000 2000 2000 ... 2000 2000 2000]\n",
      " [2000 2000 2000 ... 2000 2000 2000]\n",
      " [2000 2000 2000 ... 2000 2000 2000]]\n",
      "With nodes:3 cores_by_workers: 4\tTime: 17.944008350372314\n",
      "----------------------------------------------------------\n",
      "<Client: scheduler='tcp://170.210.103.20:8786' processes=3 cores=15>\n",
      "[[2000 2000 2000 ... 2000 2000 2000]\n",
      " [2000 2000 2000 ... 2000 2000 2000]\n",
      " [2000 2000 2000 ... 2000 2000 2000]\n",
      " ...\n",
      " [2000 2000 2000 ... 2000 2000 2000]\n",
      " [2000 2000 2000 ... 2000 2000 2000]\n",
      " [2000 2000 2000 ... 2000 2000 2000]]\n",
      "With nodes:3 cores_by_workers: 5\tTime: 17.844298362731934\n",
      "----------------------------------------------------------\n",
      "<Client: scheduler='tcp://170.210.103.20:8786' processes=3 cores=18>\n",
      "[[2000 2000 2000 ... 2000 2000 2000]\n",
      " [2000 2000 2000 ... 2000 2000 2000]\n",
      " [2000 2000 2000 ... 2000 2000 2000]\n",
      " ...\n",
      " [2000 2000 2000 ... 2000 2000 2000]\n",
      " [2000 2000 2000 ... 2000 2000 2000]\n",
      " [2000 2000 2000 ... 2000 2000 2000]]\n",
      "With nodes:3 cores_by_workers: 6\tTime: 17.661892652511597\n",
      "----------------------------------------------------------\n",
      "<Client: scheduler='tcp://170.210.103.20:8786' processes=3 cores=21>\n",
      "[[2000 2000 2000 ... 2000 2000 2000]\n",
      " [2000 2000 2000 ... 2000 2000 2000]\n",
      " [2000 2000 2000 ... 2000 2000 2000]\n",
      " ...\n",
      " [2000 2000 2000 ... 2000 2000 2000]\n",
      " [2000 2000 2000 ... 2000 2000 2000]\n",
      " [2000 2000 2000 ... 2000 2000 2000]]\n",
      "With nodes:3 cores_by_workers: 7\tTime: 17.808220148086548\n",
      "----------------------------------------------------------\n",
      "<Client: scheduler='tcp://170.210.103.20:8786' processes=3 cores=24>\n",
      "[[2000 2000 2000 ... 2000 2000 2000]\n",
      " [2000 2000 2000 ... 2000 2000 2000]\n",
      " [2000 2000 2000 ... 2000 2000 2000]\n",
      " ...\n",
      " [2000 2000 2000 ... 2000 2000 2000]\n",
      " [2000 2000 2000 ... 2000 2000 2000]\n",
      " [2000 2000 2000 ... 2000 2000 2000]]\n",
      "With nodes:3 cores_by_workers: 8\tTime: 17.76555585861206\n",
      "----------------------------------------------------------\n",
      "<Client: scheduler='tcp://170.210.103.20:8786' processes=3 cores=27>\n",
      "[[2000 2000 2000 ... 2000 2000 2000]\n",
      " [2000 2000 2000 ... 2000 2000 2000]\n",
      " [2000 2000 2000 ... 2000 2000 2000]\n",
      " ...\n",
      " [2000 2000 2000 ... 2000 2000 2000]\n",
      " [2000 2000 2000 ... 2000 2000 2000]\n",
      " [2000 2000 2000 ... 2000 2000 2000]]\n",
      "With nodes:3 cores_by_workers: 9\tTime: 17.777453899383545\n",
      "----------------------------------------------------------\n",
      "<Client: scheduler='tcp://170.210.103.20:8786' processes=3 cores=30>\n",
      "[[2000 2000 2000 ... 2000 2000 2000]\n",
      " [2000 2000 2000 ... 2000 2000 2000]\n",
      " [2000 2000 2000 ... 2000 2000 2000]\n",
      " ...\n",
      " [2000 2000 2000 ... 2000 2000 2000]\n",
      " [2000 2000 2000 ... 2000 2000 2000]\n",
      " [2000 2000 2000 ... 2000 2000 2000]]\n",
      "With nodes:3 cores_by_workers: 10\tTime: 17.93809223175049\n",
      "----------------------------------------------------------\n"
     ]
    }
   ],
   "source": [
    "for j in range(1,max_cores_by_workers+1):    \n",
    "    init_cluster('170.210.103.20', str(3), str(j))\n",
    "    time.sleep(5)\n",
    "    client = Client('170.210.103.20:8786')\n",
    "    print(client)\n",
    "    # Execute task\n",
    "    t = time.time()\n",
    "    mult = da.matmul(x_1,y_1)\n",
    "    res = mult.compute()\n",
    "    t1 = time.time()-t\n",
    "    speed_ups.append(t1/sequential_time)\n",
    "    print(res)\n",
    "    print('With nodes:3 '+'cores_by_workers: '+str(j)+ '\\tTime: '+ str(t1))    \n",
    "    print('----------------------------------------------------------')\n",
    "    kill_cluster('170.210.103.20')\n",
    "    time.sleep(10)"
   ]
  },
  {
   "cell_type": "markdown",
   "metadata": {},
   "source": [
    "### Plot Speed-Ups"
   ]
  },
  {
   "cell_type": "code",
   "execution_count": 6,
   "metadata": {},
   "outputs": [
    {
     "data": {
      "image/png": "[encoded data removed]",
      "text/plain": [
       "<Figure size 432x288 with 1 Axes>"
      ]
     },
     "metadata": {
      "needs_background": "light"
     },
     "output_type": "display_data"
    },
    {
     "name": "stderr",
     "output_type": "stream",
     "text": [
      "tornado.application - ERROR - Exception in callback <bound method Client._heartbeat of <Client: scheduler='tcp://170.210.103.20:8786' processes=3 cores=6>>\n",
      "Traceback (most recent call last):\n",
      "  File \"/home/mario/dask/lib/python3.6/site-packages/tornado/ioloop.py\", line 1229, in _run\n",
      "    return self.callback()\n",
      "  File \"/home/mario/dask/lib/python3.6/site-packages/distributed/client.py\", line 930, in _heartbeat\n",
      "    self.scheduler_comm.send({'op': 'heartbeat-client'})\n",
      "  File \"/home/mario/dask/lib/python3.6/site-packages/distributed/batched.py\", line 117, in send\n",
      "    raise CommClosedError\n",
      "distributed.comm.core.CommClosedError\n",
      "tornado.application - ERROR - Exception in callback <bound method Client._heartbeat of <Client: scheduler='tcp://170.210.103.20:8786' processes=3 cores=63>>\n",
      "Traceback (most recent call last):\n",
      "  File \"/home/mario/dask/lib/python3.6/site-packages/tornado/ioloop.py\", line 1229, in _run\n",
      "    return self.callback()\n",
      "  File \"/home/mario/dask/lib/python3.6/site-packages/distributed/client.py\", line 930, in _heartbeat\n",
      "    self.scheduler_comm.send({'op': 'heartbeat-client'})\n",
      "  File \"/home/mario/dask/lib/python3.6/site-packages/distributed/batched.py\", line 117, in send\n",
      "    raise CommClosedError\n",
      "distributed.comm.core.CommClosedError\n"
     ]
    }
   ],
   "source": [
    "import matplotlib.pyplot as plt\n",
    "cores = 3\n",
    "x = []\n",
    "for s in speed_ups:\n",
    "    x.append(cores)\n",
    "    cores += 3\n",
    "plt.plot(x, speed_ups)\n",
    "plt.ylabel('Speed-Up')\n",
    "plt.xlabel('Cores')\n",
    "plt.show()"
   ]
  }
 ],
 "metadata": {
  "kernelspec": {
   "display_name": "dask",
   "language": "python",
   "name": "dask"
  },
  "language_info": {
   "codemirror_mode": {
    "name": "ipython",
    "version": 3
   },
   "file_extension": ".py",
   "mimetype": "text/x-python",
   "name": "python",
   "nbconvert_exporter": "python",
   "pygments_lexer": "ipython3",
   "version": "3.6.7"
  }
 },
 "nbformat": 4,
 "nbformat_minor": 2
}
