{
 "cells": [
  {
   "cell_type": "markdown",
   "metadata": {},
   "source": [
    "# Scaling-Up matrix multiplication"
   ]
  },
  {
   "cell_type": "code",
   "execution_count": 1,
   "metadata": {},
   "outputs": [],
   "source": [
    "import dask.array as da\n",
    "from dask.distributed import Client\n",
    "import time\n",
    "from scale_cluster import init_cluster\n",
    "from scale_cluster import kill_cluster"
   ]
  },
  {
   "cell_type": "code",
   "execution_count": 3,
   "metadata": {},
   "outputs": [
    {
     "name": "stdout",
     "output_type": "stream",
     "text": [
      "<Client: scheduler='tcp://170.210.103.20:8786' processes=0 cores=0>\n"
     ]
    }
   ],
   "source": [
    "client = Client('170.210.103.20:8786')\n",
    "print(client)"
   ]
  },
  {
   "cell_type": "code",
   "execution_count": 9,
   "metadata": {},
   "outputs": [
    {
     "name": "stdout",
     "output_type": "stream",
     "text": [
      "<Client: scheduler='tcp://170.210.103.20:8786' processes=13 cores=312>\n"
     ]
    }
   ],
   "source": [
    "init_cluster('170.210.103.20', str(1), str(24))\n",
    "time.sleep(5)\n",
    "client = Client('170.210.103.20:8786')\n",
    "print(client)"
   ]
  },
  {
   "cell_type": "code",
   "execution_count": 7,
   "metadata": {},
   "outputs": [],
   "source": [
    "kill_cluster('170.210.103.20')\n",
    "time.sleep(10)"
   ]
  },
  {
   "cell_type": "code",
   "execution_count": 2,
   "metadata": {},
   "outputs": [],
   "source": [
    "# Settings Init Cluster\n",
    "max_workers = 3  # It depends settings cluster\n",
    "max_cores_by_workers = 24\n",
    "\n",
    "# Settings Init Matrix\n",
    "n_rows_x = 1000\n",
    "n_col_x = 2000\n",
    "n_rows_y = 2000\n",
    "n_col_y = 1000\n",
    "\n",
    "# Init vars matrix\n",
    "x_1 = da.ones((n_rows_x,n_col_x), dtype=int)\n",
    "y_1 = da.ones((n_rows_y,n_col_y), dtype=int)\n",
    "sequential_time = 4\n",
    "speed_ups = []\n",
    "#mult = da.matmul(x_1,y_1)\n",
    "#res = mult.compute()\n",
    "#res"
   ]
  },
  {
   "cell_type": "markdown",
   "metadata": {},
   "source": [
    "### Get time sequential"
   ]
  },
  {
   "cell_type": "code",
   "execution_count": 3,
   "metadata": {},
   "outputs": [
    {
     "name": "stdout",
     "output_type": "stream",
     "text": [
      "<Client: scheduler='tcp://170.210.103.20:8786' processes=1 cores=1>\n",
      "Result:\n",
      "[[2000 2000 2000 ... 2000 2000 2000]\n",
      " [2000 2000 2000 ... 2000 2000 2000]\n",
      " [2000 2000 2000 ... 2000 2000 2000]\n",
      " ...\n",
      " [2000 2000 2000 ... 2000 2000 2000]\n",
      " [2000 2000 2000 ... 2000 2000 2000]\n",
      " [2000 2000 2000 ... 2000 2000 2000]]\n",
      "With nodes:1 cores_by_workers: 1\tTime: 17.728991985321045\n",
      "----------------------------------------------------------\n"
     ]
    }
   ],
   "source": [
    "init_cluster('170.210.103.20', str(1), str(1))\n",
    "time.sleep(5)\n",
    "client = Client('170.210.103.20:8786')\n",
    "print(client)\n",
    "# Execute task\n",
    "t = time.time()\n",
    "#mult = da.matmul(x_1,y_1)\n",
    "#res = mult.compute()\n",
    "\n",
    "sequential_time = time.time()-t\n",
    "print('Result:')\n",
    "print(res)\n",
    "print('With nodes:1 '+'cores_by_workers: '+str(1)+ '\\tTime: '+ str(sequential_time))    \n",
    "print('----------------------------------------------------------')\n",
    "kill_cluster('170.210.103.20')\n",
    "time.sleep(10)"
   ]
  },
  {
   "cell_type": "markdown",
   "metadata": {},
   "source": [
    "### Get Speed_Ups"
   ]
  },
  {
   "cell_type": "code",
   "execution_count": 4,
   "metadata": {},
   "outputs": [
    {
     "name": "stdout",
     "output_type": "stream",
     "text": [
      "<Client: scheduler='tcp://170.210.103.20:8786' processes=3 cores=3>\n",
      "[[2000 2000 2000 ... 2000 2000 2000]\n",
      " [2000 2000 2000 ... 2000 2000 2000]\n",
      " [2000 2000 2000 ... 2000 2000 2000]\n",
      " ...\n",
      " [2000 2000 2000 ... 2000 2000 2000]\n",
      " [2000 2000 2000 ... 2000 2000 2000]\n",
      " [2000 2000 2000 ... 2000 2000 2000]]\n",
      "With nodes:3 cores_by_workers: 1\tTime: 18.20842456817627\n",
      "----------------------------------------------------------\n",
      "<Client: scheduler='tcp://170.210.103.20:8786' processes=3 cores=6>\n",
      "[[2000 2000 2000 ... 2000 2000 2000]\n",
      " [2000 2000 2000 ... 2000 2000 2000]\n",
      " [2000 2000 2000 ... 2000 2000 2000]\n",
      " ...\n",
      " [2000 2000 2000 ... 2000 2000 2000]\n",
      " [2000 2000 2000 ... 2000 2000 2000]\n",
      " [2000 2000 2000 ... 2000 2000 2000]]\n",
      "With nodes:3 cores_by_workers: 2\tTime: 17.7902352809906\n",
      "----------------------------------------------------------\n",
      "<Client: scheduler='tcp://170.210.103.20:8786' processes=3 cores=9>\n",
      "[[2000 2000 2000 ... 2000 2000 2000]\n",
      " [2000 2000 2000 ... 2000 2000 2000]\n",
      " [2000 2000 2000 ... 2000 2000 2000]\n",
      " ...\n",
      " [2000 2000 2000 ... 2000 2000 2000]\n",
      " [2000 2000 2000 ... 2000 2000 2000]\n",
      " [2000 2000 2000 ... 2000 2000 2000]]\n",
      "With nodes:3 cores_by_workers: 3\tTime: 17.859829425811768\n",
      "----------------------------------------------------------\n",
      "<Client: scheduler='tcp://170.210.103.20:8786' processes=3 cores=12>\n",
      "[[2000 2000 2000 ... 2000 2000 2000]\n",
      " [2000 2000 2000 ... 2000 2000 2000]\n",
      " [2000 2000 2000 ... 2000 2000 2000]\n",
      " ...\n",
      " [2000 2000 2000 ... 2000 2000 2000]\n",
      " [2000 2000 2000 ... 2000 2000 2000]\n",
      " [2000 2000 2000 ... 2000 2000 2000]]\n",
      "With nodes:3 cores_by_workers: 4\tTime: 17.715871572494507\n",
      "----------------------------------------------------------\n",
      "<Client: scheduler='tcp://170.210.103.20:8786' processes=3 cores=15>\n",
      "[[2000 2000 2000 ... 2000 2000 2000]\n",
      " [2000 2000 2000 ... 2000 2000 2000]\n",
      " [2000 2000 2000 ... 2000 2000 2000]\n",
      " ...\n",
      " [2000 2000 2000 ... 2000 2000 2000]\n",
      " [2000 2000 2000 ... 2000 2000 2000]\n",
      " [2000 2000 2000 ... 2000 2000 2000]]\n",
      "With nodes:3 cores_by_workers: 5\tTime: 17.87686777114868\n",
      "----------------------------------------------------------\n",
      "<Client: scheduler='tcp://170.210.103.20:8786' processes=3 cores=18>\n",
      "[[2000 2000 2000 ... 2000 2000 2000]\n",
      " [2000 2000 2000 ... 2000 2000 2000]\n",
      " [2000 2000 2000 ... 2000 2000 2000]\n",
      " ...\n",
      " [2000 2000 2000 ... 2000 2000 2000]\n",
      " [2000 2000 2000 ... 2000 2000 2000]\n",
      " [2000 2000 2000 ... 2000 2000 2000]]\n",
      "With nodes:3 cores_by_workers: 6\tTime: 17.778844833374023\n",
      "----------------------------------------------------------\n",
      "<Client: scheduler='tcp://170.210.103.20:8786' processes=3 cores=21>\n",
      "[[2000 2000 2000 ... 2000 2000 2000]\n",
      " [2000 2000 2000 ... 2000 2000 2000]\n",
      " [2000 2000 2000 ... 2000 2000 2000]\n",
      " ...\n",
      " [2000 2000 2000 ... 2000 2000 2000]\n",
      " [2000 2000 2000 ... 2000 2000 2000]\n",
      " [2000 2000 2000 ... 2000 2000 2000]]\n",
      "With nodes:3 cores_by_workers: 7\tTime: 17.758486032485962\n",
      "----------------------------------------------------------\n",
      "<Client: scheduler='tcp://170.210.103.20:8786' processes=3 cores=24>\n",
      "[[2000 2000 2000 ... 2000 2000 2000]\n",
      " [2000 2000 2000 ... 2000 2000 2000]\n",
      " [2000 2000 2000 ... 2000 2000 2000]\n",
      " ...\n",
      " [2000 2000 2000 ... 2000 2000 2000]\n",
      " [2000 2000 2000 ... 2000 2000 2000]\n",
      " [2000 2000 2000 ... 2000 2000 2000]]\n",
      "With nodes:3 cores_by_workers: 8\tTime: 17.924498558044434\n",
      "----------------------------------------------------------\n",
      "<Client: scheduler='tcp://170.210.103.20:8786' processes=3 cores=27>\n",
      "[[2000 2000 2000 ... 2000 2000 2000]\n",
      " [2000 2000 2000 ... 2000 2000 2000]\n",
      " [2000 2000 2000 ... 2000 2000 2000]\n",
      " ...\n",
      " [2000 2000 2000 ... 2000 2000 2000]\n",
      " [2000 2000 2000 ... 2000 2000 2000]\n",
      " [2000 2000 2000 ... 2000 2000 2000]]\n",
      "With nodes:3 cores_by_workers: 9\tTime: 17.83650279045105\n",
      "----------------------------------------------------------\n",
      "<Client: scheduler='tcp://170.210.103.20:8786' processes=3 cores=30>\n",
      "[[2000 2000 2000 ... 2000 2000 2000]\n",
      " [2000 2000 2000 ... 2000 2000 2000]\n",
      " [2000 2000 2000 ... 2000 2000 2000]\n",
      " ...\n",
      " [2000 2000 2000 ... 2000 2000 2000]\n",
      " [2000 2000 2000 ... 2000 2000 2000]\n",
      " [2000 2000 2000 ... 2000 2000 2000]]\n",
      "With nodes:3 cores_by_workers: 10\tTime: 17.828211545944214\n",
      "----------------------------------------------------------\n",
      "<Client: scheduler='tcp://170.210.103.20:8786' processes=3 cores=33>\n",
      "[[2000 2000 2000 ... 2000 2000 2000]\n",
      " [2000 2000 2000 ... 2000 2000 2000]\n",
      " [2000 2000 2000 ... 2000 2000 2000]\n",
      " ...\n",
      " [2000 2000 2000 ... 2000 2000 2000]\n",
      " [2000 2000 2000 ... 2000 2000 2000]\n",
      " [2000 2000 2000 ... 2000 2000 2000]]\n",
      "With nodes:3 cores_by_workers: 11\tTime: 17.783354997634888\n",
      "----------------------------------------------------------\n",
      "<Client: scheduler='tcp://170.210.103.20:8786' processes=3 cores=36>\n",
      "[[2000 2000 2000 ... 2000 2000 2000]\n",
      " [2000 2000 2000 ... 2000 2000 2000]\n",
      " [2000 2000 2000 ... 2000 2000 2000]\n",
      " ...\n",
      " [2000 2000 2000 ... 2000 2000 2000]\n",
      " [2000 2000 2000 ... 2000 2000 2000]\n",
      " [2000 2000 2000 ... 2000 2000 2000]]\n",
      "With nodes:3 cores_by_workers: 12\tTime: 17.91798973083496\n",
      "----------------------------------------------------------\n",
      "<Client: scheduler='tcp://170.210.103.20:8786' processes=3 cores=39>\n",
      "[[2000 2000 2000 ... 2000 2000 2000]\n",
      " [2000 2000 2000 ... 2000 2000 2000]\n",
      " [2000 2000 2000 ... 2000 2000 2000]\n",
      " ...\n",
      " [2000 2000 2000 ... 2000 2000 2000]\n",
      " [2000 2000 2000 ... 2000 2000 2000]\n",
      " [2000 2000 2000 ... 2000 2000 2000]]\n",
      "With nodes:3 cores_by_workers: 13\tTime: 18.56626057624817\n",
      "----------------------------------------------------------\n"
     ]
    },
    {
     "name": "stderr",
     "output_type": "stream",
     "text": [
      "tornado.application - ERROR - Exception in callback <bound method Client._heartbeat of <Client: scheduler='tcp://170.210.103.20:8786' processes=3 cores=39>>\n",
      "Traceback (most recent call last):\n",
      "  File \"/home/mario/dask/lib/python3.6/site-packages/tornado/ioloop.py\", line 1229, in _run\n",
      "    return self.callback()\n",
      "  File \"/home/mario/dask/lib/python3.6/site-packages/distributed/client.py\", line 930, in _heartbeat\n",
      "    self.scheduler_comm.send({'op': 'heartbeat-client'})\n",
      "  File \"/home/mario/dask/lib/python3.6/site-packages/distributed/batched.py\", line 117, in send\n",
      "    raise CommClosedError\n",
      "distributed.comm.core.CommClosedError\n"
     ]
    },
    {
     "name": "stdout",
     "output_type": "stream",
     "text": [
      "<Client: scheduler='tcp://170.210.103.20:8786' processes=3 cores=42>\n",
      "[[2000 2000 2000 ... 2000 2000 2000]\n",
      " [2000 2000 2000 ... 2000 2000 2000]\n",
      " [2000 2000 2000 ... 2000 2000 2000]\n",
      " ...\n",
      " [2000 2000 2000 ... 2000 2000 2000]\n",
      " [2000 2000 2000 ... 2000 2000 2000]\n",
      " [2000 2000 2000 ... 2000 2000 2000]]\n",
      "With nodes:3 cores_by_workers: 14\tTime: 17.99370312690735\n",
      "----------------------------------------------------------\n",
      "<Client: scheduler='tcp://170.210.103.20:8786' processes=3 cores=45>\n",
      "[[2000 2000 2000 ... 2000 2000 2000]\n",
      " [2000 2000 2000 ... 2000 2000 2000]\n",
      " [2000 2000 2000 ... 2000 2000 2000]\n",
      " ...\n",
      " [2000 2000 2000 ... 2000 2000 2000]\n",
      " [2000 2000 2000 ... 2000 2000 2000]\n",
      " [2000 2000 2000 ... 2000 2000 2000]]\n",
      "With nodes:3 cores_by_workers: 15\tTime: 17.778382539749146\n",
      "----------------------------------------------------------\n"
     ]
    },
    {
     "name": "stderr",
     "output_type": "stream",
     "text": [
      "tornado.application - ERROR - Exception in callback <bound method Client._heartbeat of <Client: scheduler='tcp://170.210.103.20:8786' processes=3 cores=45>>\n",
      "Traceback (most recent call last):\n",
      "  File \"/home/mario/dask/lib/python3.6/site-packages/tornado/ioloop.py\", line 1229, in _run\n",
      "    return self.callback()\n",
      "  File \"/home/mario/dask/lib/python3.6/site-packages/distributed/client.py\", line 930, in _heartbeat\n",
      "    self.scheduler_comm.send({'op': 'heartbeat-client'})\n",
      "  File \"/home/mario/dask/lib/python3.6/site-packages/distributed/batched.py\", line 117, in send\n",
      "    raise CommClosedError\n",
      "distributed.comm.core.CommClosedError\n"
     ]
    },
    {
     "name": "stdout",
     "output_type": "stream",
     "text": [
      "<Client: scheduler='tcp://170.210.103.20:8786' processes=3 cores=48>\n",
      "[[2000 2000 2000 ... 2000 2000 2000]\n",
      " [2000 2000 2000 ... 2000 2000 2000]\n",
      " [2000 2000 2000 ... 2000 2000 2000]\n",
      " ...\n",
      " [2000 2000 2000 ... 2000 2000 2000]\n",
      " [2000 2000 2000 ... 2000 2000 2000]\n",
      " [2000 2000 2000 ... 2000 2000 2000]]\n",
      "With nodes:3 cores_by_workers: 16\tTime: 17.71151828765869\n",
      "----------------------------------------------------------\n",
      "<Client: scheduler='tcp://170.210.103.20:8786' processes=3 cores=51>\n",
      "[[2000 2000 2000 ... 2000 2000 2000]\n",
      " [2000 2000 2000 ... 2000 2000 2000]\n",
      " [2000 2000 2000 ... 2000 2000 2000]\n",
      " ...\n",
      " [2000 2000 2000 ... 2000 2000 2000]\n",
      " [2000 2000 2000 ... 2000 2000 2000]\n",
      " [2000 2000 2000 ... 2000 2000 2000]]\n",
      "With nodes:3 cores_by_workers: 17\tTime: 17.7340407371521\n",
      "----------------------------------------------------------\n",
      "<Client: scheduler='tcp://170.210.103.20:8786' processes=3 cores=54>\n",
      "[[2000 2000 2000 ... 2000 2000 2000]\n",
      " [2000 2000 2000 ... 2000 2000 2000]\n",
      " [2000 2000 2000 ... 2000 2000 2000]\n",
      " ...\n",
      " [2000 2000 2000 ... 2000 2000 2000]\n",
      " [2000 2000 2000 ... 2000 2000 2000]\n",
      " [2000 2000 2000 ... 2000 2000 2000]]\n",
      "With nodes:3 cores_by_workers: 18\tTime: 17.77282476425171\n",
      "----------------------------------------------------------\n",
      "<Client: scheduler='tcp://170.210.103.20:8786' processes=3 cores=57>\n",
      "[[2000 2000 2000 ... 2000 2000 2000]\n",
      " [2000 2000 2000 ... 2000 2000 2000]\n",
      " [2000 2000 2000 ... 2000 2000 2000]\n",
      " ...\n",
      " [2000 2000 2000 ... 2000 2000 2000]\n",
      " [2000 2000 2000 ... 2000 2000 2000]\n",
      " [2000 2000 2000 ... 2000 2000 2000]]\n",
      "With nodes:3 cores_by_workers: 19\tTime: 17.78588557243347\n",
      "----------------------------------------------------------\n"
     ]
    },
    {
     "name": "stderr",
     "output_type": "stream",
     "text": [
      "tornado.application - ERROR - Exception in callback <bound method Client._heartbeat of <Client: scheduler='tcp://170.210.103.20:8786' processes=3 cores=57>>\n",
      "Traceback (most recent call last):\n",
      "  File \"/home/mario/dask/lib/python3.6/site-packages/tornado/ioloop.py\", line 1229, in _run\n",
      "    return self.callback()\n",
      "  File \"/home/mario/dask/lib/python3.6/site-packages/distributed/client.py\", line 930, in _heartbeat\n",
      "    self.scheduler_comm.send({'op': 'heartbeat-client'})\n",
      "  File \"/home/mario/dask/lib/python3.6/site-packages/distributed/batched.py\", line 117, in send\n",
      "    raise CommClosedError\n",
      "distributed.comm.core.CommClosedError\n"
     ]
    },
    {
     "name": "stdout",
     "output_type": "stream",
     "text": [
      "<Client: scheduler='tcp://170.210.103.20:8786' processes=3 cores=60>\n",
      "[[2000 2000 2000 ... 2000 2000 2000]\n",
      " [2000 2000 2000 ... 2000 2000 2000]\n",
      " [2000 2000 2000 ... 2000 2000 2000]\n",
      " ...\n",
      " [2000 2000 2000 ... 2000 2000 2000]\n",
      " [2000 2000 2000 ... 2000 2000 2000]\n",
      " [2000 2000 2000 ... 2000 2000 2000]]\n",
      "With nodes:3 cores_by_workers: 20\tTime: 17.854057788848877\n",
      "----------------------------------------------------------\n",
      "<Client: scheduler='tcp://170.210.103.20:8786' processes=3 cores=63>\n",
      "[[2000 2000 2000 ... 2000 2000 2000]\n",
      " [2000 2000 2000 ... 2000 2000 2000]\n",
      " [2000 2000 2000 ... 2000 2000 2000]\n",
      " ...\n",
      " [2000 2000 2000 ... 2000 2000 2000]\n",
      " [2000 2000 2000 ... 2000 2000 2000]\n",
      " [2000 2000 2000 ... 2000 2000 2000]]\n",
      "With nodes:3 cores_by_workers: 21\tTime: 17.87324857711792\n",
      "----------------------------------------------------------\n"
     ]
    },
    {
     "name": "stderr",
     "output_type": "stream",
     "text": [
      "tornado.application - ERROR - Exception in callback <bound method Client._heartbeat of <Client: scheduler='tcp://170.210.103.20:8786' processes=3 cores=63>>\n",
      "Traceback (most recent call last):\n",
      "  File \"/home/mario/dask/lib/python3.6/site-packages/tornado/ioloop.py\", line 1229, in _run\n",
      "    return self.callback()\n",
      "  File \"/home/mario/dask/lib/python3.6/site-packages/distributed/client.py\", line 930, in _heartbeat\n",
      "    self.scheduler_comm.send({'op': 'heartbeat-client'})\n",
      "  File \"/home/mario/dask/lib/python3.6/site-packages/distributed/batched.py\", line 117, in send\n",
      "    raise CommClosedError\n",
      "distributed.comm.core.CommClosedError\n"
     ]
    },
    {
     "name": "stdout",
     "output_type": "stream",
     "text": [
      "<Client: scheduler='tcp://170.210.103.20:8786' processes=3 cores=66>\n",
      "[[2000 2000 2000 ... 2000 2000 2000]\n",
      " [2000 2000 2000 ... 2000 2000 2000]\n",
      " [2000 2000 2000 ... 2000 2000 2000]\n",
      " ...\n",
      " [2000 2000 2000 ... 2000 2000 2000]\n",
      " [2000 2000 2000 ... 2000 2000 2000]\n",
      " [2000 2000 2000 ... 2000 2000 2000]]\n",
      "With nodes:3 cores_by_workers: 22\tTime: 18.042117595672607\n",
      "----------------------------------------------------------\n",
      "<Client: scheduler='tcp://170.210.103.20:8786' processes=3 cores=69>\n",
      "[[2000 2000 2000 ... 2000 2000 2000]\n",
      " [2000 2000 2000 ... 2000 2000 2000]\n",
      " [2000 2000 2000 ... 2000 2000 2000]\n",
      " ...\n",
      " [2000 2000 2000 ... 2000 2000 2000]\n",
      " [2000 2000 2000 ... 2000 2000 2000]\n",
      " [2000 2000 2000 ... 2000 2000 2000]]\n",
      "With nodes:3 cores_by_workers: 23\tTime: 17.75746488571167\n",
      "----------------------------------------------------------\n"
     ]
    },
    {
     "name": "stderr",
     "output_type": "stream",
     "text": [
      "tornado.application - ERROR - Exception in callback <bound method Client._heartbeat of <Client: scheduler='tcp://170.210.103.20:8786' processes=3 cores=69>>\n",
      "Traceback (most recent call last):\n",
      "  File \"/home/mario/dask/lib/python3.6/site-packages/tornado/ioloop.py\", line 1229, in _run\n",
      "    return self.callback()\n",
      "  File \"/home/mario/dask/lib/python3.6/site-packages/distributed/client.py\", line 930, in _heartbeat\n",
      "    self.scheduler_comm.send({'op': 'heartbeat-client'})\n",
      "  File \"/home/mario/dask/lib/python3.6/site-packages/distributed/batched.py\", line 117, in send\n",
      "    raise CommClosedError\n",
      "distributed.comm.core.CommClosedError\n"
     ]
    },
    {
     "name": "stdout",
     "output_type": "stream",
     "text": [
      "<Client: scheduler='tcp://170.210.103.20:8786' processes=3 cores=72>\n",
      "[[2000 2000 2000 ... 2000 2000 2000]\n",
      " [2000 2000 2000 ... 2000 2000 2000]\n",
      " [2000 2000 2000 ... 2000 2000 2000]\n",
      " ...\n",
      " [2000 2000 2000 ... 2000 2000 2000]\n",
      " [2000 2000 2000 ... 2000 2000 2000]\n",
      " [2000 2000 2000 ... 2000 2000 2000]]\n",
      "With nodes:3 cores_by_workers: 24\tTime: 17.761680364608765\n",
      "----------------------------------------------------------\n"
     ]
    }
   ],
   "source": [
    "for j in range(1,max_cores_by_workers+1):    \n",
    "    init_cluster('170.210.103.20', str(3), str(j))\n",
    "    time.sleep(5)\n",
    "    client = Client('170.210.103.20:8786')\n",
    "    print(client)\n",
    "    # Execute task\n",
    "    t = time.time()\n",
    "    mult = da.matmul(x_1,y_1)\n",
    "    res = mult.compute()\n",
    "    t1 = time.time()-t\n",
    "    speed_ups.append(t1/sequential_time)\n",
    "    print(res)\n",
    "    print('With nodes:3 '+'cores_by_workers: '+str(j)+ '\\tTime: '+ str(t1))    \n",
    "    print('----------------------------------------------------------')\n",
    "    kill_cluster('170.210.103.20')\n",
    "    time.sleep(15)"
   ]
  },
  {
   "cell_type": "markdown",
   "metadata": {},
   "source": [
    "### Plot Speed-Ups"
   ]
  },
  {
   "cell_type": "code",
   "execution_count": 5,
   "metadata": {},
   "outputs": [
    {
     "data": {
      "text/plain": [
       "<Figure size 640x480 with 1 Axes>"
      ]
     },
     "metadata": {},
     "output_type": "display_data"
    },
    {
     "name": "stderr",
     "output_type": "stream",
     "text": [
      "distributed.comm.tcp - WARNING - Closing dangling stream in <TCP local=tcp://170.210.103.13:46150 remote=tcp://170.210.103.20:8786>\n",
      "distributed.comm.tcp - WARNING - Closing dangling stream in <TCP local=tcp://170.210.103.13:46148 remote=tcp://170.210.103.20:8786>\n",
      "distributed.comm.tcp - WARNING - Closing dangling stream in <TCP local=tcp://170.210.103.13:46166 remote=tcp://170.210.103.20:8786>\n",
      "distributed.comm.tcp - WARNING - Closing dangling stream in <TCP local=tcp://170.210.103.13:46184 remote=tcp://170.210.103.20:8786>\n",
      "distributed.comm.tcp - WARNING - Closing dangling stream in <TCP local=tcp://170.210.103.13:46224 remote=tcp://170.210.103.20:8786>\n",
      "distributed.comm.tcp - WARNING - Closing dangling stream in <TCP local=tcp://170.210.103.13:46232 remote=tcp://170.210.103.20:8786>\n",
      "distributed.comm.tcp - WARNING - Closing dangling stream in <TCP local=tcp://170.210.103.13:46300 remote=tcp://170.210.103.20:8786>\n",
      "distributed.comm.tcp - WARNING - Closing dangling stream in <TCP local=tcp://170.210.103.13:46324 remote=tcp://170.210.103.20:8786>\n",
      "distributed.comm.tcp - WARNING - Closing dangling stream in <TCP local=tcp://170.210.103.13:46346 remote=tcp://170.210.103.20:8786>\n",
      "distributed.comm.tcp - WARNING - Closing dangling stream in <TCP local=tcp://170.210.103.13:46384 remote=tcp://170.210.103.20:8786>\n",
      "distributed.comm.tcp - WARNING - Closing dangling stream in <TCP local=tcp://170.210.103.13:46332 remote=tcp://170.210.103.20:8786>\n",
      "distributed.comm.tcp - WARNING - Closing dangling stream in <TCP local=tcp://170.210.103.13:46396 remote=tcp://170.210.103.20:8786>\n"
     ]
    }
   ],
   "source": [
    "import matplotlib.pyplot as plt\n",
    "cores = 3\n",
    "x = []\n",
    "for s in speed_ups:\n",
    "    x.append(cores)\n",
    "    cores += 3\n",
    "plt.plot(x, speed_ups)\n",
    "plt.ylabel('Speed-Up')\n",
    "plt.xlabel('Cores')\n",
    "plt.show()"
   ]
  }
 ],
 "metadata": {
  "kernelspec": {
   "display_name": "dask",
   "language": "python",
   "name": "dask"
  },
  "language_info": {
   "codemirror_mode": {
    "name": "ipython",
    "version": 3
   },
   "file_extension": ".py",
   "mimetype": "text/x-python",
   "name": "python",
   "nbconvert_exporter": "python",
   "pygments_lexer": "ipython3",
   "version": "3.6.7"
  }
 },
 "nbformat": 4,
 "nbformat_minor": 2
}
