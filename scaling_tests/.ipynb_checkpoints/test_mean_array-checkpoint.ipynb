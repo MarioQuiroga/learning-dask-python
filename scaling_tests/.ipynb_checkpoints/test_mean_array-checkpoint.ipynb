{
 "cells": [
  {
   "cell_type": "code",
   "execution_count": null,
   "metadata": {},
   "outputs": [],
   "source": [
    "import dask.array as da\n",
    "from dask.distributed import Client\n",
    "import time\n",
    "from scale_cluster import *"
   ]
  },
  {
   "cell_type": "code",
   "execution_count": null,
   "metadata": {},
   "outputs": [],
   "source": [
    "import numpy as np\n",
    "import time\n",
    "init_cluster('170.210.103.20', str(3), str(24))\n",
    "\n",
    "print('Time Sequential')\n",
    "t = time.time()\n",
    "x = np.random.rand(10000,10000)\n",
    "y = x + x.T\n",
    "z = y[::2, 5000:].mean(axis=1)\n",
    "print(z)\n",
    "print('Time with NumPy: '+str(time.time()-t))\n",
    "\n",
    "from dask.distributed import Client, progress\n",
    "client = Client('localhost:8786')\n",
    "print('\\nTime Distributed')\n",
    "print(client)\n",
    "\n",
    "# Make random data\n",
    "#import dask.array as da\n",
    "t = time.time()\n",
    "x = da.random.random((10000, 10000), chunks=(1000, 1000))\n",
    "y = x + x.T\n",
    "z = y[::2, 5000:].mean(axis=1)\n",
    "\n",
    "result = z.compute()\n",
    "print(result)\n",
    "print('Time with Dask Array: '+str(time.time()-t))\n"
   ]
  }
 ],
 "metadata": {
  "kernelspec": {
   "display_name": "Python 3",
   "language": "python",
   "name": "python3"
  },
  "language_info": {
   "codemirror_mode": {
    "name": "ipython",
    "version": 3
   },
   "file_extension": ".py",
   "mimetype": "text/x-python",
   "name": "python",
   "nbconvert_exporter": "python",
   "pygments_lexer": "ipython3",
   "version": "3.5.3"
  }
 },
 "nbformat": 4,
 "nbformat_minor": 4
}
