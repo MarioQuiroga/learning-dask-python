{
 "cells": [
  {
   "cell_type": "markdown",
   "metadata": {},
   "source": [
    "# Scaling up matrix multiplication"
   ]
  },
  {
   "cell_type": "code",
   "execution_count": 1,
   "metadata": {},
   "outputs": [],
   "source": [
    "import dask.array as da\n",
    "from dask.distributed import Client\n",
    "import time\n",
    "from ..scale.scale_cluster import *\n",
    "#from scale_cluster import *"
   ]
  },
  {
   "cell_type": "markdown",
   "metadata": {},
   "source": [
    "### Settings Init Cluster"
   ]
  },
  {
   "cell_type": "code",
   "execution_count": 2,
   "metadata": {},
   "outputs": [],
   "source": [
    "max_workers = 16  # It depends settings cluster\n",
    "max_cores_by_workers = 24\n",
    "\n",
    "# Settings Init Matrix\n",
    "n_rows_x = 1000\n",
    "n_col_x = 2000\n",
    "n_rows_y = 2000\n",
    "n_col_y = 1000\n",
    "\n",
    "# Init vars matrix\n",
    "x_1 = da.ones((n_rows_x,n_col_x), dtype=int)\n",
    "y_1 = da.ones((n_rows_y,n_col_y), dtype=int)\n",
    "sequential_time = 4\n",
    "speed_ups = []"
   ]
  },
  {
   "cell_type": "markdown",
   "metadata": {},
   "source": [
    "### Get time sequential"
   ]
  },
  {
   "cell_type": "code",
   "execution_count": 5,
   "metadata": {},
   "outputs": [
    {
     "name": "stdout",
     "output_type": "stream",
     "text": [
      "<Client: scheduler='tcp://170.210.103.20:8786' processes=1 cores=1>\n",
      "Result:\n",
      "[[2000 2000 2000 ... 2000 2000 2000]\n",
      " [2000 2000 2000 ... 2000 2000 2000]\n",
      " [2000 2000 2000 ... 2000 2000 2000]\n",
      " ...\n",
      " [2000 2000 2000 ... 2000 2000 2000]\n",
      " [2000 2000 2000 ... 2000 2000 2000]\n",
      " [2000 2000 2000 ... 2000 2000 2000]]\n",
      "With nodes:1 cores_by_workers: 1\tTime: 17.235417127609253\n",
      "----------------------------------------------------------\n"
     ]
    }
   ],
   "source": [
    "init_cluster('170.210.103.20', str(1), str(1))\n",
    "time.sleep(5)\n",
    "client = Client('170.210.103.20:8786')\n",
    "print(client)\n",
    "# Execute task\n",
    "t = time.time()\n",
    "mult = da.matmul(x_1,y_1)\n",
    "m = client.compute(mult)\n",
    "res = m.result()\n",
    "\n",
    "sequential_time = time.time()-t\n",
    "print('Result:')\n",
    "print(res)\n",
    "print('With nodes:1 '+'cores_by_workers: '+str(1)+ '\\tTime: '+ str(sequential_time))    \n",
    "print('----------------------------------------------------------')\n",
    "kill_cluster('170.210.103.20')\n",
    "time.sleep(10)"
   ]
  },
  {
   "cell_type": "markdown",
   "metadata": {},
   "source": [
    "### Get Speed ups"
   ]
  },
  {
   "cell_type": "code",
   "execution_count": 3,
   "metadata": {},
   "outputs": [
    {
     "name": "stdout",
     "output_type": "stream",
     "text": [
      "<Client: scheduler='tcp://170.210.103.20:8786' processes=1 cores=24>\n",
      "[[2000 2000 2000 ... 2000 2000 2000]\n",
      " [2000 2000 2000 ... 2000 2000 2000]\n",
      " [2000 2000 2000 ... 2000 2000 2000]\n",
      " ...\n",
      " [2000 2000 2000 ... 2000 2000 2000]\n",
      " [2000 2000 2000 ... 2000 2000 2000]\n",
      " [2000 2000 2000 ... 2000 2000 2000]]\n",
      "Time: 17.180882930755615\n",
      "----------------------------------------------------------\n",
      "<Client: scheduler='tcp://170.210.103.20:8786' processes=2 cores=48>\n",
      "[[2000 2000 2000 ... 2000 2000 2000]\n",
      " [2000 2000 2000 ... 2000 2000 2000]\n",
      " [2000 2000 2000 ... 2000 2000 2000]\n",
      " ...\n",
      " [2000 2000 2000 ... 2000 2000 2000]\n",
      " [2000 2000 2000 ... 2000 2000 2000]\n",
      " [2000 2000 2000 ... 2000 2000 2000]]\n",
      "Time: 17.582024812698364\n",
      "----------------------------------------------------------\n",
      "<Client: scheduler='tcp://170.210.103.20:8786' processes=3 cores=72>\n",
      "[[2000 2000 2000 ... 2000 2000 2000]\n",
      " [2000 2000 2000 ... 2000 2000 2000]\n",
      " [2000 2000 2000 ... 2000 2000 2000]\n",
      " ...\n",
      " [2000 2000 2000 ... 2000 2000 2000]\n",
      " [2000 2000 2000 ... 2000 2000 2000]\n",
      " [2000 2000 2000 ... 2000 2000 2000]]\n",
      "Time: 17.386970043182373\n",
      "----------------------------------------------------------\n",
      "<Client: scheduler='tcp://170.210.103.20:8786' processes=4 cores=96>\n",
      "[[2000 2000 2000 ... 2000 2000 2000]\n",
      " [2000 2000 2000 ... 2000 2000 2000]\n",
      " [2000 2000 2000 ... 2000 2000 2000]\n",
      " ...\n",
      " [2000 2000 2000 ... 2000 2000 2000]\n",
      " [2000 2000 2000 ... 2000 2000 2000]\n",
      " [2000 2000 2000 ... 2000 2000 2000]]\n",
      "Time: 17.629494428634644\n",
      "----------------------------------------------------------\n",
      "<Client: scheduler='tcp://170.210.103.20:8786' processes=5 cores=120>\n",
      "[[2000 2000 2000 ... 2000 2000 2000]\n",
      " [2000 2000 2000 ... 2000 2000 2000]\n",
      " [2000 2000 2000 ... 2000 2000 2000]\n",
      " ...\n",
      " [2000 2000 2000 ... 2000 2000 2000]\n",
      " [2000 2000 2000 ... 2000 2000 2000]\n",
      " [2000 2000 2000 ... 2000 2000 2000]]\n",
      "Time: 17.33362340927124\n",
      "----------------------------------------------------------\n",
      "<Client: scheduler='tcp://170.210.103.20:8786' processes=6 cores=144>\n",
      "[[2000 2000 2000 ... 2000 2000 2000]\n",
      " [2000 2000 2000 ... 2000 2000 2000]\n",
      " [2000 2000 2000 ... 2000 2000 2000]\n",
      " ...\n",
      " [2000 2000 2000 ... 2000 2000 2000]\n",
      " [2000 2000 2000 ... 2000 2000 2000]\n",
      " [2000 2000 2000 ... 2000 2000 2000]]\n",
      "Time: 17.52030658721924\n",
      "----------------------------------------------------------\n"
     ]
    },
    {
     "ename": "KeyboardInterrupt",
     "evalue": "",
     "output_type": "error",
     "traceback": [
      "\u001b[0;31m---------------------------------------------------------------------------\u001b[0m",
      "\u001b[0;31mKeyboardInterrupt\u001b[0m                         Traceback (most recent call last)",
      "\u001b[0;32m<ipython-input-3-88c7951baf65>\u001b[0m in \u001b[0;36m<module>\u001b[0;34m\u001b[0m\n\u001b[1;32m     15\u001b[0m     \u001b[0mprint\u001b[0m\u001b[0;34m(\u001b[0m\u001b[0;34m'----------------------------------------------------------'\u001b[0m\u001b[0;34m)\u001b[0m\u001b[0;34m\u001b[0m\u001b[0m\n\u001b[1;32m     16\u001b[0m     \u001b[0mkill_cluster\u001b[0m\u001b[0;34m(\u001b[0m\u001b[0;34m'170.210.103.20'\u001b[0m\u001b[0;34m)\u001b[0m\u001b[0;34m\u001b[0m\u001b[0m\n\u001b[0;32m---> 17\u001b[0;31m     \u001b[0mtime\u001b[0m\u001b[0;34m.\u001b[0m\u001b[0msleep\u001b[0m\u001b[0;34m(\u001b[0m\u001b[0;36m15\u001b[0m\u001b[0;34m)\u001b[0m\u001b[0;34m\u001b[0m\u001b[0m\n\u001b[0m",
      "\u001b[0;31mKeyboardInterrupt\u001b[0m: "
     ]
    }
   ],
   "source": [
    "for j in range(1,max_workers+1):    \n",
    "    init_cluster('170.210.103.20', str(j), str(24))\n",
    "    time.sleep(5)\n",
    "    client = Client('170.210.103.20:8786')\n",
    "    print(client)\n",
    "    # Execute task\n",
    "    t = time.time()\n",
    "    mult = da.matmul(x_1,y_1)\n",
    "    m = client.compute(mult)\n",
    "    res = m.result()\n",
    "    t1 = time.time()-t\n",
    "    speed_ups.append(t1/sequential_time)\n",
    "    print(res)\n",
    "    print('Time: '+ str(t1))    \n",
    "    print('----------------------------------------------------------')\n",
    "    kill_cluster('170.210.103.20')\n",
    "    time.sleep(15)"
   ]
  },
  {
   "cell_type": "code",
   "execution_count": 5,
   "metadata": {},
   "outputs": [
    {
     "name": "stdout",
     "output_type": "stream",
     "text": [
      "<Client: scheduler='tcp://170.210.103.20:8786' processes=1 cores=1>\n",
      "[[2000 2000 2000 ... 2000 2000 2000]\n",
      " [2000 2000 2000 ... 2000 2000 2000]\n",
      " [2000 2000 2000 ... 2000 2000 2000]\n",
      " ...\n",
      " [2000 2000 2000 ... 2000 2000 2000]\n",
      " [2000 2000 2000 ... 2000 2000 2000]\n",
      " [2000 2000 2000 ... 2000 2000 2000]]\n",
      "Time: 17.240084886550903\n",
      "----------------------------------------------------------\n",
      "<Client: scheduler='tcp://170.210.103.20:8786' processes=1 cores=2>\n",
      "[[2000 2000 2000 ... 2000 2000 2000]\n",
      " [2000 2000 2000 ... 2000 2000 2000]\n",
      " [2000 2000 2000 ... 2000 2000 2000]\n",
      " ...\n",
      " [2000 2000 2000 ... 2000 2000 2000]\n",
      " [2000 2000 2000 ... 2000 2000 2000]\n",
      " [2000 2000 2000 ... 2000 2000 2000]]\n",
      "Time: 17.980249404907227\n",
      "----------------------------------------------------------\n",
      "<Client: scheduler='tcp://170.210.103.20:8786' processes=1 cores=4>\n",
      "[[2000 2000 2000 ... 2000 2000 2000]\n",
      " [2000 2000 2000 ... 2000 2000 2000]\n",
      " [2000 2000 2000 ... 2000 2000 2000]\n",
      " ...\n",
      " [2000 2000 2000 ... 2000 2000 2000]\n",
      " [2000 2000 2000 ... 2000 2000 2000]\n",
      " [2000 2000 2000 ... 2000 2000 2000]]\n",
      "Time: 17.35855197906494\n",
      "----------------------------------------------------------\n",
      "<Client: scheduler='tcp://170.210.103.20:8786' processes=1 cores=8>\n",
      "[[2000 2000 2000 ... 2000 2000 2000]\n",
      " [2000 2000 2000 ... 2000 2000 2000]\n",
      " [2000 2000 2000 ... 2000 2000 2000]\n",
      " ...\n",
      " [2000 2000 2000 ... 2000 2000 2000]\n",
      " [2000 2000 2000 ... 2000 2000 2000]\n",
      " [2000 2000 2000 ... 2000 2000 2000]]\n",
      "Time: 17.362643718719482\n",
      "----------------------------------------------------------\n",
      "<Client: scheduler='tcp://170.210.103.20:8786' processes=1 cores=16>\n",
      "[[2000 2000 2000 ... 2000 2000 2000]\n",
      " [2000 2000 2000 ... 2000 2000 2000]\n",
      " [2000 2000 2000 ... 2000 2000 2000]\n",
      " ...\n",
      " [2000 2000 2000 ... 2000 2000 2000]\n",
      " [2000 2000 2000 ... 2000 2000 2000]\n",
      " [2000 2000 2000 ... 2000 2000 2000]]\n",
      "Time: 17.606241464614868\n",
      "----------------------------------------------------------\n",
      "<Client: scheduler='tcp://170.210.103.20:8786' processes=1 cores=24>\n",
      "[[2000 2000 2000 ... 2000 2000 2000]\n",
      " [2000 2000 2000 ... 2000 2000 2000]\n",
      " [2000 2000 2000 ... 2000 2000 2000]\n",
      " ...\n",
      " [2000 2000 2000 ... 2000 2000 2000]\n",
      " [2000 2000 2000 ... 2000 2000 2000]\n",
      " [2000 2000 2000 ... 2000 2000 2000]]\n",
      "Time: 17.44059681892395\n",
      "----------------------------------------------------------\n"
     ]
    }
   ],
   "source": [
    "l = [1, 2, 4, 8, 16, 24]\n",
    "for j in l:    \n",
    "    init_cluster('170.210.103.20', str(1), str(j))\n",
    "    time.sleep(5)\n",
    "    client = Client('170.210.103.20:8786')\n",
    "    print(client)\n",
    "    # Execute task\n",
    "    t = time.time()\n",
    "    mult = da.matmul(x_1,y_1)\n",
    "    m = client.compute(mult)\n",
    "    res = m.result()\n",
    "    t1 = time.time()-t\n",
    "    speed_ups.append(t1/sequential_time)\n",
    "    print(res)\n",
    "    print('Time: '+ str(t1))    \n",
    "    print('----------------------------------------------------------')\n",
    "    kill_cluster('170.210.103.20')\n",
    "    time.sleep(15)"
   ]
  },
  {
   "cell_type": "markdown",
   "metadata": {},
   "source": [
    "### Plot speed ups"
   ]
  },
  {
   "cell_type": "code",
   "execution_count": 7,
   "metadata": {},
   "outputs": [
    {
     "data": {
      "text/plain": [
       "<Figure size 640x480 with 1 Axes>"
      ]
     },
     "metadata": {},
     "output_type": "display_data"
    }
   ],
   "source": [
    "import matplotlib.pyplot as plt\n",
    "cores = 24\n",
    "x = []\n",
    "for s in speed_ups:\n",
    "    x.append(cores)\n",
    "    cores += 24\n",
    "plt.plot(x, speed_ups)\n",
    "plt.ylabel('Speed-Up')\n",
    "plt.xlabel('Cores')\n",
    "plt.show()"
   ]
  },
  {
   "cell_type": "code",
   "execution_count": 4,
   "metadata": {},
   "outputs": [],
   "source": [
    "kill_cluster('170.210.103.20')"
   ]
  }
 ],
 "metadata": {
  "kernelspec": {
   "display_name": "Python 3",
   "language": "python",
   "name": "python3"
  },
  "language_info": {
   "codemirror_mode": {
    "name": "ipython",
    "version": 3
   },
   "file_extension": ".py",
   "mimetype": "text/x-python",
   "name": "python",
   "nbconvert_exporter": "python",
   "pygments_lexer": "ipython3",
   "version": "3.5.3"
  }
 },
 "nbformat": 4,
 "nbformat_minor": 4
}
